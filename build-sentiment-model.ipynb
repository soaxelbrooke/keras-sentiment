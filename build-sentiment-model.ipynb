{
 "cells": [
  {
   "cell_type": "code",
   "execution_count": 1,
   "metadata": {},
   "outputs": [
    {
     "name": "stderr",
     "output_type": "stream",
     "text": [
      "/usr/lib/python3.6/importlib/_bootstrap.py:219: RuntimeWarning: numpy.dtype size changed, may indicate binary incompatibility. Expected 96, got 88\n",
      "  return f(*args, **kwds)\n",
      "Using TensorFlow backend.\n"
     ]
    }
   ],
   "source": [
    "import numpy as np\n",
    "np.random.seed(622)\n",
    "import pandas as pd\n",
    "\n",
    "import os\n",
    "import re\n",
    "import json\n",
    "from sklearn.model_selection import train_test_split\n",
    "from sklearn.metrics import roc_auc_score\n",
    "\n",
    "import tensorflow as tf\n",
    "\n",
    "from tensorflow.keras.models import Model\n",
    "from tensorflow.keras.layers import Flatten, Input, Dropout, Dense, Reshape, Embedding, SpatialDropout1D, concatenate\n",
    "from tensorflow.keras.layers import GRU, Bidirectional, AvgPool1D, MaxPool1D, Conv1D, GlobalAveragePooling1D, GlobalMaxPooling1D\n",
    "from tensorflow.keras.utils import to_categorical\n",
    "from tensorflow.keras.preprocessing import text, sequence\n",
    "from tensorflow.keras.callbacks import Callback\n",
    "import sqlite3\n",
    "from tensorflow.keras.callbacks import ModelCheckpoint\n",
    "from keras_tqdm import TQDMNotebookCallback\n",
    "\n",
    "from tqdm import tqdm_notebook as tqdm\n",
    "import toolz\n",
    "\n",
    "import warnings\n",
    "warnings.filterwarnings('ignore')\n",
    "\n",
    "EMBEDDING_FILE = 'embeddings.txt'\n"
   ]
  },
  {
   "cell_type": "code",
   "execution_count": 2,
   "metadata": {},
   "outputs": [
    {
     "name": "stdout",
     "output_type": "stream",
     "text": [
      "CPU times: user 4.01 s, sys: 1.25 s, total: 5.26 s\n",
      "Wall time: 5.26 s\n"
     ]
    }
   ],
   "source": [
    "%%time\n",
    "conn = sqlite3.connect('reviews.sqlite')\n",
    "# all_data = pd.read_sql('select body, rating from reviews order by created_at asc limit 100000', conn)\n",
    "# train = all_data.iloc[:80000]\n",
    "# dev = all_data.iloc[80000:]\n",
    "all_data = pd.read_sql('select body, rating from reviews', conn)"
   ]
  },
  {
   "cell_type": "code",
   "execution_count": 3,
   "metadata": {},
   "outputs": [],
   "source": [
    "train = all_data.iloc[:-10000]\n",
    "dev = all_data.iloc[-10000:]"
   ]
  },
  {
   "cell_type": "code",
   "execution_count": 4,
   "metadata": {},
   "outputs": [],
   "source": [
    "\n",
    "token_pattern = r\"[\\w']+|[,\\.\\?;\\-\\(\\)]\"\n",
    "regex = re.compile(token_pattern)\n",
    "\n",
    "def tokenize(text):\n",
    "    return regex.findall(text.lower())\n",
    "\n"
   ]
  },
  {
   "cell_type": "code",
   "execution_count": 5,
   "metadata": {},
   "outputs": [
    {
     "data": {
      "text/plain": [
       "['this',\n",
       " 'is',\n",
       " 'how',\n",
       " 'we',\n",
       " 'do',\n",
       " 'it',\n",
       " '.',\n",
       " \"it's\",\n",
       " 'friday',\n",
       " 'night',\n",
       " ',',\n",
       " 'and',\n",
       " 'i',\n",
       " 'feel',\n",
       " 'all',\n",
       " 'right',\n",
       " ',',\n",
       " 'and',\n",
       " 'the',\n",
       " \"party's\",\n",
       " 'here',\n",
       " 'on',\n",
       " 'the',\n",
       " 'west',\n",
       " 'side',\n",
       " '.']"
      ]
     },
     "execution_count": 5,
     "metadata": {},
     "output_type": "execute_result"
    }
   ],
   "source": [
    "tokenize(\"This is how we do it.  It's Friday night, and I feel all right, and the party's here on the west side.\")"
   ]
  },
  {
   "cell_type": "code",
   "execution_count": 6,
   "metadata": {},
   "outputs": [
    {
     "name": "stdout",
     "output_type": "stream",
     "text": [
      "CPU times: user 3min 38s, sys: 2.01 s, total: 3min 40s\n",
      "Wall time: 3min 40s\n"
     ]
    }
   ],
   "source": [
    "%%time\n",
    "\n",
    "def to_sentiment_class(rating):\n",
    "    if rating < 4:\n",
    "        return 0\n",
    "    if rating == 4:\n",
    "        return 1\n",
    "    else:\n",
    "        return 2\n",
    "\n",
    "X_train = train[\"body\"].fillna(\"fillna\").values\n",
    "# y_train = to_categorical(train[\"rating\"].apply(to_sentiment_class).values)\n",
    "y_train = to_categorical(train[\"rating\"].values)\n",
    "X_dev = dev[\"body\"].fillna(\"fillna\").values\n",
    "\n",
    "max_features = 100000\n",
    "maxlen = 100\n",
    "embed_size = 300\n",
    "\n",
    "tokenizer = text.Tokenizer(num_words=max_features, filters='', lower=False)\n",
    "tokenizer.fit_on_texts([' '.join(tokenize(doc)) for doc in list(X_train) + list(X_dev)])\n",
    "X_train = tokenizer.texts_to_sequences(X_train)\n",
    "X_dev = tokenizer.texts_to_sequences(X_dev)\n",
    "x_train = sequence.pad_sequences(X_train, maxlen=maxlen)\n",
    "x_dev = sequence.pad_sequences(X_dev, maxlen=maxlen)\n"
   ]
  },
  {
   "cell_type": "code",
   "execution_count": 7,
   "metadata": {},
   "outputs": [
    {
     "data": {
      "text/plain": [
       "array([      0.,  283930.,  126280.,  207357.,  513883., 3394498.],\n",
       "      dtype=float32)"
      ]
     },
     "execution_count": 7,
     "metadata": {},
     "output_type": "execute_result"
    }
   ],
   "source": [
    "y_train.sum(axis=0)"
   ]
  },
  {
   "cell_type": "code",
   "execution_count": 8,
   "metadata": {},
   "outputs": [
    {
     "data": {
      "text/plain": [
       "array([[ 0,  0,  0,  0,  0,  0,  0,  0,  0,  0,  0,  0,  0,  0,  0,  0,\n",
       "         0,  0,  0,  0,  0,  0,  0,  0,  0,  0,  0,  0,  0,  0,  0,  0,\n",
       "         0,  0,  0,  0,  0,  0,  0,  0,  0,  0,  0,  0,  0,  0,  0,  0,\n",
       "         0,  0,  0,  0,  0,  0,  0,  0,  0,  0,  0,  0,  0,  0,  0,  0,\n",
       "         0,  0,  0,  0,  0,  0,  0,  0,  0,  0,  0,  0,  0,  0,  0,  0,\n",
       "         0,  0,  0,  0,  0,  0,  0,  0,  0,  0,  0,  0,  0,  0, 31, 27,\n",
       "         7, 21, 38,  1]], dtype=int32)"
      ]
     },
     "execution_count": 8,
     "metadata": {},
     "output_type": "execute_result"
    }
   ],
   "source": [
    "sequence.pad_sequences(tokenizer.texts_to_sequences([' '.join(tokenize('We had a great time.'))]), maxlen=maxlen)"
   ]
  },
  {
   "cell_type": "code",
   "execution_count": 9,
   "metadata": {},
   "outputs": [
    {
     "data": {
      "text/plain": [
       "array([[  0,   0,   0,   0,   0,   0,   0,   0,   0,   0,   0,   0,   0,\n",
       "          0,   0,   0,   0,   0,   0,   0,   0,   0,   0,   0,   0,   0,\n",
       "          0,   0,   0,   0,   0,   0,   0,   0,   0,   0,   0,   0,   0,\n",
       "          0,   0,   0,   0,   0,   0,   0,   0,   0,   0,   0,   0,   0,\n",
       "          0,   0,   0,   0,   0,   0,   0,   0,   0,   0,   0,   0,   0,\n",
       "          0,   0,   0,   0,   0,   0,   0,   0,   0,   0,   0,   0,   0,\n",
       "          0,   0,   0,   0,   0,   0,   0,   0,   0,   0,   0,   0,   0,\n",
       "        201, 192,  32,  32,  80, 421,   5, 220,  60]], dtype=int32)"
      ]
     },
     "execution_count": 9,
     "metadata": {},
     "output_type": "execute_result"
    }
   ],
   "source": [
    "sequence.pad_sequences(tokenizer.texts_to_sequences(['Beware, these people are scammers!  They are only trying to take your money!']), maxlen=maxlen)"
   ]
  },
  {
   "cell_type": "code",
   "execution_count": 10,
   "metadata": {},
   "outputs": [
    {
     "data": {
      "application/vnd.jupyter.widget-view+json": {
       "model_id": "87ed0ffdfd9a4e82938c9717d0a42f33",
       "version_major": 2,
       "version_minor": 0
      },
      "text/plain": [
       "HBox(children=(IntProgress(value=0, max=1999996), HTML(value='')))"
      ]
     },
     "metadata": {},
     "output_type": "display_data"
    },
    {
     "name": "stdout",
     "output_type": "stream",
     "text": [
      "\n",
      "CPU times: user 1min 37s, sys: 2.79 s, total: 1min 40s\n",
      "Wall time: 1min 39s\n"
     ]
    }
   ],
   "source": [
    "%%time\n",
    "\n",
    "def get_coefs(word, *arr):\n",
    "    return word, np.asarray(arr, dtype='float32')\n",
    "\n",
    "embeddings_index = dict(get_coefs(*o.rstrip().rsplit(' ')) \n",
    "                        for o in tqdm(open(EMBEDDING_FILE), \n",
    "                                      total=1999996))\n"
   ]
  },
  {
   "cell_type": "code",
   "execution_count": 11,
   "metadata": {},
   "outputs": [
    {
     "data": {
      "application/vnd.jupyter.widget-view+json": {
       "model_id": "20240ea6984f4676be984e692ae96a00",
       "version_major": 2,
       "version_minor": 0
      },
      "text/plain": [
       "HBox(children=(IntProgress(value=0, max=402235), HTML(value='')))"
      ]
     },
     "metadata": {},
     "output_type": "display_data"
    },
    {
     "name": "stdout",
     "output_type": "stream",
     "text": [
      "\n"
     ]
    }
   ],
   "source": [
    "word_index = tokenizer.word_index\n",
    "nb_words = min(max_features, len(word_index))\n",
    "embedding_matrix = np.zeros((nb_words + 1, embed_size))\n",
    "for word, i in tqdm(word_index.items()):\n",
    "    if i >= max_features: continue\n",
    "    embedding_vector = embeddings_index.get(word)\n",
    "    if embedding_vector is not None: embedding_matrix[i] = embedding_vector\n"
   ]
  },
  {
   "cell_type": "code",
   "execution_count": 12,
   "metadata": {},
   "outputs": [],
   "source": [
    "\n",
    "class RocAucEvaluation(Callback):\n",
    "    def __init__(self, validation_data=(), interval=1):\n",
    "        super(Callback, self).__init__()\n",
    "\n",
    "        self.interval = interval\n",
    "        self.X_val, self.y_val = validation_data\n",
    "\n",
    "    def on_epoch_end(self, epoch, logs={}):\n",
    "        if epoch % self.interval == 0:\n",
    "            y_pred = self.model.predict(self.X_val, verbose=0)\n",
    "            score = roc_auc_score(self.y_val, y_pred)\n",
    "            print(\"\\n ROC-AUC - epoch: %d - score: %.6f \\n\" % (epoch+1, score))\n"
   ]
  },
  {
   "cell_type": "code",
   "execution_count": 13,
   "metadata": {},
   "outputs": [],
   "source": [
    "X_tra, X_val, y_tra, y_val = train_test_split(x_train, y_train, train_size=0.95, random_state=622)\n",
    "RocAuc = RocAucEvaluation(validation_data=(X_val, y_val), interval=1)\n"
   ]
  },
  {
   "cell_type": "code",
   "execution_count": 14,
   "metadata": {},
   "outputs": [
    {
     "data": {
      "text/plain": [
       "(100001, 300)"
      ]
     },
     "execution_count": 14,
     "metadata": {},
     "output_type": "execute_result"
    }
   ],
   "source": [
    "embedding_matrix.shape"
   ]
  },
  {
   "cell_type": "code",
   "execution_count": 15,
   "metadata": {},
   "outputs": [],
   "source": [
    "conv_stride = 5\n",
    "num_filters = 100\n",
    "sequence_length = 100\n",
    "embedding_dim = 300\n",
    "num_recurrent = 3\n",
    "recurrent_dim = 7\n",
    "\n",
    "def get_rnn_model():\n",
    "    inp = Input(shape=(maxlen, ), dtype=tf.int64)\n",
    "    embed = Embedding(max_features + 1, embed_size, \n",
    "                  weights=[embedding_matrix], trainable=False)(inp)\n",
    "    recurrents = []\n",
    "    for level in range(num_recurrent):\n",
    "        last = embed if len(recurrents) == 0 else recurrents[-1]\n",
    "        recurrents.append(Bidirectional(GRU(recurrent_dim, return_sequences=True))(last))\n",
    "    recurrent_concats = concatenate(recurrents, axis=2)\n",
    "    max_pool = GlobalMaxPooling1D()(recurrent_concats)\n",
    "    avg_pool = GlobalAveragePooling1D()(recurrent_concats)\n",
    "    \n",
    "    conc = concatenate([avg_pool, max_pool])\n",
    "    outp = Dense(y_train.shape[1], activation=\"softmax\")(conc)\n",
    "    \n",
    "    model = Model(inputs=inp, outputs=outp)\n",
    "    model.compile(loss='binary_crossentropy',\n",
    "                  optimizer='adam',\n",
    "                  metrics=['accuracy'])\n",
    "\n",
    "    return model\n",
    "\n",
    "\n",
    "def get_conv_model():\n",
    "    inp = Input(shape=(maxlen, ), dtype=tf.int64)\n",
    "    embed = Embedding(max_features + 1, embed_size, \n",
    "                  weights=[embedding_matrix], trainable=False)(inp)\n",
    "    \n",
    "    max_pools = []\n",
    "    avg_pools = []\n",
    "    \n",
    "    for filter_size in [3, 4, 5]:\n",
    "        conv = Conv1D(num_filters, filter_size, kernel_initializer='normal', \n",
    "                      activation='relu')(embed)\n",
    "        max_pools.append(MaxPool1D(filter_size)(conv))\n",
    "        avg_pools.append(AvgPool1D(filter_size)(conv))\n",
    "    \n",
    "    conc = Flatten()(concatenate(max_pools + avg_pools, axis=1))\n",
    "    filter_dropout = Dropout(0.5)(conc)\n",
    "    output = Dense(units=y_train.shape[1], activation='softmax')(filter_dropout)\n",
    "    \n",
    "    model = Model(inputs=inp, outputs=output)\n",
    "    model.compile(loss='binary_crossentropy',\n",
    "                  optimizer='adam',\n",
    "                  metrics=['accuracy'])\n",
    "\n",
    "    return model\n"
   ]
  },
  {
   "cell_type": "markdown",
   "metadata": {},
   "source": [
    "biGRU 2x 50d - min losses - val 0.2335 - 2.5k pred/s\n",
    "\n",
    "3x 100d Conv max pool - min losses - val 0.1627 - train 0.1702 - 20k pred/s\n",
    "\n",
    "3x 100d Conv maxavg pool - min losses - val 0.1639 - train 0.1702 - 15k pred/s\n",
    "\n",
    "biGRU 2x 6d highway with embed in maxavg pooling - val 0.1517 - train 0.1527 - 4.4k pred/s\n",
    "\n",
    "biGRU 3x 7d highway without embed in maxavg pooling - val 0.1507 - train 0.1511 - 8.5k pred/s\n",
    "\n",
    "biGRU 2x 6d full highway maxavg pooling - val 0.1496 - train 0.1496 - 1k pred/s"
   ]
  },
  {
   "cell_type": "code",
   "execution_count": 16,
   "metadata": {},
   "outputs": [],
   "source": [
    "model = get_rnn_model()"
   ]
  },
  {
   "cell_type": "code",
   "execution_count": 17,
   "metadata": {},
   "outputs": [
    {
     "name": "stdout",
     "output_type": "stream",
     "text": [
      "__________________________________________________________________________________________________\n",
      "Layer (type)                    Output Shape         Param #     Connected to                     \n",
      "==================================================================================================\n",
      "input_1 (InputLayer)            (None, 100)          0                                            \n",
      "__________________________________________________________________________________________________\n",
      "embedding (Embedding)           (None, 100, 300)     30000300    input_1[0][0]                    \n",
      "__________________________________________________________________________________________________\n",
      "bidirectional (Bidirectional)   (None, 100, 14)      12936       embedding[0][0]                  \n",
      "__________________________________________________________________________________________________\n",
      "bidirectional_1 (Bidirectional) (None, 100, 14)      924         bidirectional[0][0]              \n",
      "__________________________________________________________________________________________________\n",
      "bidirectional_2 (Bidirectional) (None, 100, 14)      924         bidirectional_1[0][0]            \n",
      "__________________________________________________________________________________________________\n",
      "concatenate (Concatenate)       (None, 100, 42)      0           bidirectional[0][0]              \n",
      "                                                                 bidirectional_1[0][0]            \n",
      "                                                                 bidirectional_2[0][0]            \n",
      "__________________________________________________________________________________________________\n",
      "global_average_pooling1d (Globa (None, 42)           0           concatenate[0][0]                \n",
      "__________________________________________________________________________________________________\n",
      "global_max_pooling1d (GlobalMax (None, 42)           0           concatenate[0][0]                \n",
      "__________________________________________________________________________________________________\n",
      "concatenate_1 (Concatenate)     (None, 84)           0           global_average_pooling1d[0][0]   \n",
      "                                                                 global_max_pooling1d[0][0]       \n",
      "__________________________________________________________________________________________________\n",
      "dense (Dense)                   (None, 6)            510         concatenate_1[0][0]              \n",
      "==================================================================================================\n",
      "Total params: 30,015,594\n",
      "Trainable params: 15,294\n",
      "Non-trainable params: 30,000,300\n",
      "__________________________________________________________________________________________________\n"
     ]
    }
   ],
   "source": [
    "model.summary()"
   ]
  },
  {
   "cell_type": "code",
   "execution_count": 20,
   "metadata": {},
   "outputs": [
    {
     "name": "stdout",
     "output_type": "stream",
     "text": [
      "Train on 4299650 samples, validate on 226298 samples\n"
     ]
    },
    {
     "data": {
      "application/vnd.jupyter.widget-view+json": {
       "model_id": "b8c464d8adc94ef2a6584f5619c7a931",
       "version_major": 2,
       "version_minor": 0
      },
      "text/plain": [
       "HBox(children=(IntProgress(value=0, description='Training', max=5), HTML(value='')))"
      ]
     },
     "metadata": {},
     "output_type": "display_data"
    },
    {
     "name": "stdout",
     "output_type": "stream",
     "text": [
      "Epoch 1/5\n"
     ]
    },
    {
     "data": {
      "application/vnd.jupyter.widget-view+json": {
       "model_id": "51c7bb98aa614564a2696a1afab34e35",
       "version_major": 2,
       "version_minor": 0
      },
      "text/plain": [
       "HBox(children=(IntProgress(value=0, description='Epoch 0', max=4299650), HTML(value='')))"
      ]
     },
     "metadata": {},
     "output_type": "display_data"
    },
    {
     "name": "stdout",
     "output_type": "stream",
     "text": [
      " - 1213s - loss: 0.1512 - acc: 0.9437 - val_loss: 0.1517 - val_acc: 0.9435\n",
      "\n",
      "Epoch 00001: val_loss improved from inf to 0.15171, saving model to keras_model.hdf5\n",
      "Epoch 2/5\n"
     ]
    },
    {
     "data": {
      "application/vnd.jupyter.widget-view+json": {
       "model_id": "fd34068ddfed446487b19e9f16f72f9f",
       "version_major": 2,
       "version_minor": 0
      },
      "text/plain": [
       "HBox(children=(IntProgress(value=0, description='Epoch 1', max=4299650), HTML(value='')))"
      ]
     },
     "metadata": {},
     "output_type": "display_data"
    },
    {
     "name": "stdout",
     "output_type": "stream",
     "text": [
      " - 1198s - loss: 0.1508 - acc: 0.9438 - val_loss: 0.1512 - val_acc: 0.9435\n",
      "\n",
      "Epoch 00002: val_loss improved from 0.15171 to 0.15117, saving model to keras_model.hdf5\n",
      "Epoch 3/5\n"
     ]
    },
    {
     "data": {
      "application/vnd.jupyter.widget-view+json": {
       "model_id": "4665d7b1ebe14451a97df51c4076cda0",
       "version_major": 2,
       "version_minor": 0
      },
      "text/plain": [
       "HBox(children=(IntProgress(value=0, description='Epoch 2', max=4299650), HTML(value='')))"
      ]
     },
     "metadata": {},
     "output_type": "display_data"
    },
    {
     "name": "stdout",
     "output_type": "stream",
     "text": [
      " - 1192s - loss: 0.1505 - acc: 0.9439 - val_loss: 0.1511 - val_acc: 0.9436\n",
      "\n",
      "Epoch 00003: val_loss improved from 0.15117 to 0.15108, saving model to keras_model.hdf5\n",
      "Epoch 4/5\n"
     ]
    },
    {
     "data": {
      "application/vnd.jupyter.widget-view+json": {
       "model_id": "f9b3ed7b990d4bc98eed245864eadacc",
       "version_major": 2,
       "version_minor": 0
      },
      "text/plain": [
       "HBox(children=(IntProgress(value=0, description='Epoch 3', max=4299650), HTML(value='')))"
      ]
     },
     "metadata": {},
     "output_type": "display_data"
    },
    {
     "name": "stdout",
     "output_type": "stream",
     "text": [
      " - 1203s - loss: 0.1502 - acc: 0.9440 - val_loss: 0.1501 - val_acc: 0.9439\n",
      "\n",
      "Epoch 00004: val_loss improved from 0.15108 to 0.15013, saving model to keras_model.hdf5\n",
      "Epoch 5/5\n"
     ]
    },
    {
     "data": {
      "application/vnd.jupyter.widget-view+json": {
       "model_id": "081cd622d0ad461e838127622a9eea3d",
       "version_major": 2,
       "version_minor": 0
      },
      "text/plain": [
       "HBox(children=(IntProgress(value=0, description='Epoch 4', max=4299650), HTML(value='')))"
      ]
     },
     "metadata": {},
     "output_type": "display_data"
    },
    {
     "name": "stdout",
     "output_type": "stream",
     "text": [
      " - 1199s - loss: 0.1499 - acc: 0.9440 - val_loss: 0.1502 - val_acc: 0.9440\n",
      "\n",
      "Epoch 00005: val_loss did not improve from 0.15013\n",
      "\n"
     ]
    }
   ],
   "source": [
    "batch_size = 2048\n",
    "epochs = 5\n",
    "\n",
    "callbacks = [\n",
    "#     RocAuc,\n",
    "    TQDMNotebookCallback(leave_inner=True, leave_outer=True),\n",
    "    ModelCheckpoint(filepath='keras_model.hdf5', verbose=1, save_best_only=True),\n",
    "]\n",
    "\n",
    "hist = model.fit(X_tra, y_tra, batch_size=batch_size, epochs=epochs, validation_data=(X_val, y_val),\n",
    "                 callbacks=callbacks, verbose=2)\n"
   ]
  },
  {
   "cell_type": "code",
   "execution_count": 23,
   "metadata": {},
   "outputs": [
    {
     "name": "stdout",
     "output_type": "stream",
     "text": [
      "1.99 s ± 9.41 ms per loop (mean ± std. dev. of 7 runs, 1 loop each)\n"
     ]
    }
   ],
   "source": [
    "%%timeit\n",
    "y_pred = model.predict(x_dev, batch_size=1024)"
   ]
  },
  {
   "cell_type": "code",
   "execution_count": 22,
   "metadata": {},
   "outputs": [
    {
     "data": {
      "text/plain": [
       "5291.005291005291"
      ]
     },
     "execution_count": 22,
     "metadata": {},
     "output_type": "execute_result"
    }
   ],
   "source": [
    "10000 / 1.89"
   ]
  },
  {
   "cell_type": "code",
   "execution_count": 20,
   "metadata": {},
   "outputs": [],
   "source": [
    "import tensorflow as tf"
   ]
  },
  {
   "cell_type": "code",
   "execution_count": 24,
   "metadata": {},
   "outputs": [],
   "source": [
    "# https://medium.com/tensorflow/training-and-serving-ml-models-with-tf-keras-fd975cc0fa27\n",
    "tf.keras.backend.set_learning_phase(0)\n",
    "tf_model = tf.keras.models.load_model('keras_model.hdf5')"
   ]
  },
  {
   "cell_type": "code",
   "execution_count": 25,
   "metadata": {},
   "outputs": [],
   "source": [
    "try:\n",
    "    existing_models = os.listdir(\"out/sentiment/\")\n",
    "    model_num = 1 if len(existing_models) == 0 else max(map(int, existing_models)) + 1\n",
    "except FileNotFoundError:\n",
    "    model_num = 1"
   ]
  },
  {
   "cell_type": "code",
   "execution_count": 26,
   "metadata": {},
   "outputs": [
    {
     "name": "stdout",
     "output_type": "stream",
     "text": [
      "INFO:tensorflow:Assets added to graph.\n",
      "INFO:tensorflow:No assets to write.\n",
      "INFO:tensorflow:SavedModel written to: out/sentiment/4/saved_model.pb\n"
     ]
    }
   ],
   "source": [
    "export_path = f'out/sentiment/{model_num}'\n",
    "\n",
    "with tf.keras.backend.get_session() as sess:\n",
    "    tf.saved_model.simple_save(\n",
    "        sess, \n",
    "        export_path, \n",
    "        inputs={'input_idxs': tf_model.input}, \n",
    "        outputs={t.name: t for t in tf_model.outputs}\n",
    "    )"
   ]
  },
  {
   "cell_type": "code",
   "execution_count": 27,
   "metadata": {},
   "outputs": [],
   "source": [
    "with open(export_path + '/vocab.json', 'w') as outfile:\n",
    "    json.dump({k: v for k, v in tokenizer.word_index.items() if v < max_features}, outfile)"
   ]
  },
  {
   "cell_type": "code",
   "execution_count": null,
   "metadata": {},
   "outputs": [],
   "source": []
  }
 ],
 "metadata": {
  "kernelspec": {
   "display_name": "Python 3",
   "language": "python",
   "name": "python3"
  },
  "language_info": {
   "codemirror_mode": {
    "name": "ipython",
    "version": 3
   },
   "file_extension": ".py",
   "mimetype": "text/x-python",
   "name": "python",
   "nbconvert_exporter": "python",
   "pygments_lexer": "ipython3",
   "version": "3.6.6"
  }
 },
 "nbformat": 4,
 "nbformat_minor": 2
}
